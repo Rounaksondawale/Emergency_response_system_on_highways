{
 "cells": [
  {
   "cell_type": "code",
   "execution_count": null,
   "metadata": {},
   "outputs": [],
   "source": [
    "import time\n",
    "import pandas as pd\n",
    "import numpy as np\n",
    "import firebase_admin\n",
    "from firebase_admin import credentials, db"
   ]
  },
  {
   "cell_type": "code",
   "execution_count": null,
   "metadata": {},
   "outputs": [],
   "source": [
    "cred = credentials.Certificate(\"creds.json\")\n",
    "firebase_admin.initialize_app(cred, {\n",
    "    \"databaseURL\": \"https://alert-8c0c7-default-rtdb.asia-southeast1.firebasedatabase.app/\"\n",
    "})"
   ]
  },
  {
   "cell_type": "code",
   "execution_count": null,
   "metadata": {},
   "outputs": [],
   "source": [
    "accident_locations = db.reference(\"/accident_locations\")\n",
    "df = pd.read_csv(\"complete_data.csv\")  # Hospital dataset"
   ]
  },
  {
   "cell_type": "code",
   "execution_count": null,
   "metadata": {},
   "outputs": [],
   "source": [
    "def closest_hospital(lat, long):\n",
    "    grid = 0.01\n",
    "    find = False\n",
    "    n = 1\n",
    "\n",
    "    while not find:\n",
    "        start_lat = lat - grid * n\n",
    "        end_lat = lat + grid * n\n",
    "        start_long = long - grid * n\n",
    "        end_long = long + grid * n\n",
    "\n",
    "        test = df[\n",
    "            (df['latitude'] >= start_lat) & (df['latitude'] <= end_lat) &\n",
    "            (df['longitude'] >= start_long) & (df['longitude'] <= end_long)\n",
    "        ]\n",
    "\n",
    "        if not test.empty:\n",
    "            find = True\n",
    "        else:\n",
    "            n += 1\n",
    "\n",
    "    distances = np.square(test['latitude'] - lat) + np.square(test['longitude'] - long)\n",
    "    min_index = distances.idxmin()\n",
    "\n",
    "    return df.loc[min_index, 'hospital Name']"
   ]
  },
  {
   "cell_type": "code",
   "execution_count": null,
   "metadata": {},
   "outputs": [],
   "source": [
    "def update_nearest_hospitals():\n",
    "    while True:\n",
    "        accident_data = accident_locations.get()\n",
    "        if not accident_data:\n",
    "            time.sleep(5)\n",
    "            continue  # Skip iteration if no accident data\n",
    "\n",
    "        for id, value in accident_data.items():\n",
    "            if value['Nearest_hospital'] == \"\":\n",
    "                lat, lon = value['latitude'], value['longitude']\n",
    "                hospital = closest_hospital(lat, lon)\n",
    "                accident_locations.update({f'/{id}/Nearest_hospital': hospital})\n",
    "\n",
    "        time.sleep(5)"
   ]
  },
  {
   "cell_type": "code",
   "execution_count": null,
   "metadata": {},
   "outputs": [],
   "source": [
    "update_nearest_hospitals()"
   ]
  },
  {
   "cell_type": "code",
   "execution_count": null,
   "metadata": {},
   "outputs": [],
   "source": []
  },
  {
   "cell_type": "code",
   "execution_count": null,
   "metadata": {},
   "outputs": [],
   "source": []
  }
 ],
 "metadata": {
  "kernelspec": {
   "display_name": "Python 3",
   "language": "python",
   "name": "python3"
  },
  "language_info": {
   "codemirror_mode": {
    "name": "ipython",
    "version": 3
   },
   "file_extension": ".py",
   "mimetype": "text/x-python",
   "name": "python",
   "nbconvert_exporter": "python",
   "pygments_lexer": "ipython3",
   "version": "3.11.5"
  }
 },
 "nbformat": 4,
 "nbformat_minor": 2
}
