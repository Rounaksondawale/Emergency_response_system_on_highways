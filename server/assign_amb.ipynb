{
 "cells": [
  {
   "cell_type": "code",
   "execution_count": null,
   "metadata": {},
   "outputs": [],
   "source": [
    "import time\n",
    "import firebase_admin\n",
    "from firebase_admin import credentials, db"
   ]
  },
  {
   "cell_type": "code",
   "execution_count": null,
   "metadata": {},
   "outputs": [],
   "source": [
    "cred = credentials.Certificate(\"creds.json\")\n",
    "firebase_admin.initialize_app(cred, {\n",
    "    \"databaseURL\": \"https://alert-8c0c7-default-rtdb.asia-southeast1.firebasedatabase.app/\"\n",
    "})"
   ]
  },
  {
   "cell_type": "code",
   "execution_count": null,
   "metadata": {},
   "outputs": [],
   "source": [
    "ambulance = db.reference(\"/ambulence_current_location\")\n",
    "accident_locations = db.reference(\"/accident_locations\")"
   ]
  },
  {
   "cell_type": "code",
   "execution_count": null,
   "metadata": {},
   "outputs": [],
   "source": [
    "def assign_ambulances():\n",
    "    while True:\n",
    "        accident_data = accident_locations.get()\n",
    "        ambulance_data = ambulance.get()\n",
    "\n",
    "        if not accident_data or not ambulance_data:\n",
    "            time.sleep(5)\n",
    "            continue\n",
    "\n",
    "        for key, location in accident_data.items():\n",
    "            dis = float('inf')\n",
    "            assign_amb = None\n",
    "\n",
    "            for amb_id, amb_location in ambulance_data.items():\n",
    "                if amb_location['isFree']:\n",
    "                    dis_temp = (amb_location['latitude'] - location['latitude'])**2 + (amb_location['longitude'] - location['longitude'])**2\n",
    "                    if dis_temp < dis:\n",
    "                        dis = dis_temp\n",
    "                        assign_amb = amb_id\n",
    "\n",
    "            if assign_amb:\n",
    "                db.reference(\"/ambulence_current_location\").update({f\"{assign_amb}/isFree\": False})\n",
    "                db.reference(\"/ambulance_status\").update({f\"{assign_amb}\": location['Nearest_hospital']})\n",
    "\n",
    "        time.sleep(5)"
   ]
  },
  {
   "cell_type": "code",
   "execution_count": null,
   "metadata": {},
   "outputs": [],
   "source": [
    "assign_ambulances()"
   ]
  }
 ],
 "metadata": {
  "kernelspec": {
   "display_name": "Python 3",
   "language": "python",
   "name": "python3"
  },
  "language_info": {
   "codemirror_mode": {
    "name": "ipython",
    "version": 3
   },
   "file_extension": ".py",
   "mimetype": "text/x-python",
   "name": "python",
   "nbconvert_exporter": "python",
   "pygments_lexer": "ipython3",
   "version": "3.11.5"
  }
 },
 "nbformat": 4,
 "nbformat_minor": 2
}
